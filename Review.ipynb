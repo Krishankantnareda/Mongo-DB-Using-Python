{
 "cells": [
  {
   "cell_type": "code",
   "execution_count": 1,
   "id": "89b6639d-ebe8-44ca-8816-921f2453bf61",
   "metadata": {},
   "outputs": [
    {
     "name": "stdout",
     "output_type": "stream",
     "text": [
      "Collecting pymongo\n",
      "  Downloading pymongo-4.3.3-cp310-cp310-manylinux_2_17_x86_64.manylinux2014_x86_64.whl (492 kB)\n",
      "\u001b[2K     \u001b[90m━━━━━━━━━━━━━━━━━━━━━━━━━━━━━━━━━━━━━━\u001b[0m \u001b[32m492.9/492.9 kB\u001b[0m \u001b[31m34.0 MB/s\u001b[0m eta \u001b[36m0:00:00\u001b[0m\n",
      "\u001b[?25hCollecting dnspython<3.0.0,>=1.16.0\n",
      "  Downloading dnspython-2.3.0-py3-none-any.whl (283 kB)\n",
      "\u001b[2K     \u001b[90m━━━━━━━━━━━━━━━━━━━━━━━━━━━━━━━━━━━━━━\u001b[0m \u001b[32m283.7/283.7 kB\u001b[0m \u001b[31m38.6 MB/s\u001b[0m eta \u001b[36m0:00:00\u001b[0m\n",
      "\u001b[?25hInstalling collected packages: dnspython, pymongo\n",
      "Successfully installed dnspython-2.3.0 pymongo-4.3.3\n",
      "Note: you may need to restart the kernel to use updated packages.\n"
     ]
    }
   ],
   "source": [
    "pip install pymongo"
   ]
  },
  {
   "cell_type": "code",
   "execution_count": 2,
   "id": "3b6e1491-59b1-4c65-ae18-84cb8be858f3",
   "metadata": {},
   "outputs": [],
   "source": [
    "import pymongo"
   ]
  },
  {
   "cell_type": "code",
   "execution_count": 3,
   "id": "f6045f57-b317-4981-9588-0ef3101847ed",
   "metadata": {},
   "outputs": [
    {
     "name": "stdout",
     "output_type": "stream",
     "text": [
      "Database(MongoClient(host=['ac-7kb8mq1-shard-00-01.ssqgpxm.mongodb.net:27017', 'ac-7kb8mq1-shard-00-02.ssqgpxm.mongodb.net:27017', 'ac-7kb8mq1-shard-00-00.ssqgpxm.mongodb.net:27017'], document_class=dict, tz_aware=False, connect=True, retrywrites=True, w='majority', authsource='admin', replicaset='atlas-fw8t7c-shard-0', tls=True), 'test')\n"
     ]
    }
   ],
   "source": [
    "client = pymongo.MongoClient(\"mongodb+srv://naredakrishankant:<password>@cluster0.ssqgpxm.mongodb.net/?retryWrites=true&w=majority\")\n",
    "db = client.test\n",
    "print(db)"
   ]
  },
  {
   "cell_type": "code",
   "execution_count": 4,
   "id": "ed8cdb3e-25fd-4e22-a6df-d8ba025b6fa2",
   "metadata": {},
   "outputs": [],
   "source": [
    "database = client[\"Review\"]"
   ]
  },
  {
   "cell_type": "code",
   "execution_count": 5,
   "id": "8f840246-3fde-46f5-a2c6-85663fc65c91",
   "metadata": {},
   "outputs": [],
   "source": [
    "coll = database[\"Search\"]"
   ]
  },
  {
   "cell_type": "code",
   "execution_count": null,
   "id": "4845f4bb-edce-4a5b-bc8e-ffb8f58e011b",
   "metadata": {},
   "outputs": [],
   "source": [
    "data = {Product\tName\tRating\tComment Heading\tComments\n",
    "iphone\tRahul Prasad\t5\tFabulous!\tBest smart phone under this price range compare to other phones in 2023 if you see overall build quality, performance and Camera with autofocus and video action mode are awesome50% extra RAM compared to iPhone 13 and other more features. Best time to upgrade to iPhone 14 . I am so happy See Low light photos are amazing..\n",
    "iphone\tSankhadip Mazumder\t4\tGood choice\tIt's a apple device .. that means you get the good old ios . No performance issue , supper ram and power management . My slightly distasteful remark would be on its camera . Dont get me wrong , its great but the colors seems to be vibrant by default which I'm not really a fan of. Also the low light performance of the front camera is not that sharp . I used to own a pixel 3 and its front camera output seems to be better than iphone 13s . But overall the camera is good and it will do the job. ...\n",
    "iphone\tFlipkart Customer\t5\tTerrific\tDamn such a great phone. Camera is really good, battery lasts long enough, super smooth even though its just 60 hz XDR display. Videos with action mode on are insanely stable and crisp.The whole apple environment itself is so seamless. I shifted from android to iPhone and it barely took any time since I had iPad and a mac already. With a just a few clicks the phone was ready to go.\n",
    "iphone\tFlipkart Customer\t5\tBest in the market!\tExcellent smart phone, Good battery backup and performance is very good, Good camera quality.\n",
    "iphone\tFeecon Behera\t5\tMust buy!\tJust awesome!!I switch to iPhone 14 from iPhone 12. The powerful chipset gives you smooth performance. No lags, no fancy UI, just delivers the best of it. Camera is best. Battery giving a full day. Speaker sounds wide and clear. Must buy!!\n",
    "iphone\tSamaresh Tikader\t5\tFabulous!\tHappy to have iPhone 14. Wonderful phone specially because of Powerful camera😍, perfect screen size and potentially battery life make it worthy.\n",
    "iphone\tManish Choudhary\t5\tPerfect product!\tAmazing deviceI switch to iPhone 14 from iPhone 8. Great camera and power management full day battery backup. Sound quality and display also awesome. Just go for it if you have enough money\n",
    "iphone\tAshutosh Kumar\t5\tClassy product\tGreat phone with great capabilities 🔥Excellent camera 📸Processor same as my 13pro New blue colour is awesome ❤️I have :- 14pro . 13pro . 12. 12mini . Also new this one iphone 14 . One thing is common in all have , there is no lag till the date. The one thing I always said it is what it is🔥🔥\n",
    "iphone\tafzal khan\t5\tFabulous!\tBest one. Have not used a better mobile than this yet. currently one of the best phone in the market.\n",
    "iphone\tSunder Singh\t5\tHighly recommended\tI am so happy to have first time i phone 14. My experience is outstanding to have this phone.But i wanted to have i phone 18 fortunately i have this now."
   ]
  }
 ],
 "metadata": {
  "kernelspec": {
   "display_name": "Python 3 (ipykernel)",
   "language": "python",
   "name": "python3"
  },
  "language_info": {
   "codemirror_mode": {
    "name": "ipython",
    "version": 3
   },
   "file_extension": ".py",
   "mimetype": "text/x-python",
   "name": "python",
   "nbconvert_exporter": "python",
   "pygments_lexer": "ipython3",
   "version": "3.10.6"
  }
 },
 "nbformat": 4,
 "nbformat_minor": 5
}
